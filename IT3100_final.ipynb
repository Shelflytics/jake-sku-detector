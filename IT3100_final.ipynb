version https://git-lfs.github.com/spec/v1
oid sha256:40f86fd91acb00a42f6f72ff902c2f89b2dfbc9b65121474a9f830910eb9b77d
size 14278463
