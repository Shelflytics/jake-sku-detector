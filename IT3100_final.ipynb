version https://git-lfs.github.com/spec/v1
oid sha256:abda35380557a39228625d26d6dde6c894ae2bbd1c16636aeb7e3c62d13ed402
size 1505098
